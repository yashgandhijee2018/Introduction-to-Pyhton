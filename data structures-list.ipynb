{
 "cells": [
  {
   "cell_type": "markdown",
   "metadata": {},
   "source": [
    "\n",
    "# list \n",
    "- list is an heterogenous array\n"
   ]
  },
  {
   "cell_type": "markdown",
   "metadata": {},
   "source": [
    "### consider list 'a' then functions are:\n",
    "- len(a)\n",
    "- type(a)\n",
    "- joining of lists: l1,l2 be list join is l1+l2\n",
    "- joining about a point: converting to str type then abt a point\n",
    "- l1.extend(l2): l2 is also added to l3\n",
    "- list using loop: l=list(i for i in range(1,6))\n",
    "- slicing: l[a:b]\n",
    "- append: add 1 element at a time in the ending of the list\n",
    "- insert: add 1 element anywhere in the list\n",
    "- remove: delete using element/address\n",
    "- pop: delete from the last\n",
    "- del: delete using address"
   ]
  },
  {
   "cell_type": "code",
   "execution_count": 3,
   "metadata": {},
   "outputs": [
    {
     "name": "stdout",
     "output_type": "stream",
     "text": [
      "<class 'list'>\n"
     ]
    }
   ],
   "source": [
    "a=list()\n",
    "print(type(a))"
   ]
  },
  {
   "cell_type": "code",
   "execution_count": 4,
   "metadata": {},
   "outputs": [
    {
     "data": {
      "text/plain": [
       "3"
      ]
     },
     "execution_count": 4,
     "metadata": {},
     "output_type": "execute_result"
    }
   ],
   "source": [
    "b=[1,2,\"hello\"]\n",
    "len(b)"
   ]
  },
  {
   "cell_type": "code",
   "execution_count": 13,
   "metadata": {},
   "outputs": [
    {
     "name": "stdout",
     "output_type": "stream",
     "text": [
      "[1, 2, 3, 'hello', 2, 4, 1, 'world']\n",
      "<class 'str'>\n"
     ]
    },
    {
     "data": {
      "text/plain": [
       "\"[_1_,_ _2_,_ _3_,_ _'_h_e_l_l_o_'_,_ _2_,_ _4_,_ _1_,_ _'_w_o_r_l_d_'_]\""
      ]
     },
     "execution_count": 13,
     "metadata": {},
     "output_type": "execute_result"
    }
   ],
   "source": [
    "#joining lists\n",
    "\n",
    "l1=list([1,2,3,\"hello\"])\n",
    "l2=list([2,4,1,\"world\"])\n",
    "l3=l1+l2\n",
    "print(l3)\n",
    "\n",
    "#joining a critical point bw every element\n",
    "\n",
    "a=\"_\"\n",
    "l4=str(l3)\n",
    "print(type(l4))\n",
    "a.join(l4)"
   ]
  },
  {
   "cell_type": "code",
   "execution_count": 16,
   "metadata": {},
   "outputs": [
    {
     "name": "stdout",
     "output_type": "stream",
     "text": [
      "[1, 2, 3, 'hello', 2, 4, 1, 'world', 2, 4, 1, 'world', 2, 4, 1, 'world']\n"
     ]
    }
   ],
   "source": [
    "#joining a critical point bw every element using extend function\n",
    "\n",
    "l3.extend(l2)\n",
    "print(l3)"
   ]
  },
  {
   "cell_type": "code",
   "execution_count": 25,
   "metadata": {},
   "outputs": [
    {
     "name": "stdout",
     "output_type": "stream",
     "text": [
      "[1, 4, 9, 16, 25]\n"
     ]
    }
   ],
   "source": [
    "#creating list using loop\n",
    "\n",
    "l=list([i*i for i in range(1,6)])\n",
    "print(l)"
   ]
  },
  {
   "cell_type": "code",
   "execution_count": 26,
   "metadata": {},
   "outputs": [
    {
     "name": "stdout",
     "output_type": "stream",
     "text": [
      "[1, 2, 3, 'h3llo']\n"
     ]
    }
   ],
   "source": [
    "#list slicing:\n",
    "\n",
    "l=[1,2,3,\"h3llo\",34.5]\n",
    "print(l[:4])"
   ]
  },
  {
   "cell_type": "markdown",
   "metadata": {},
   "source": [
    "## insertion and deletion\n",
    "- append: add 1 element at a time in the ending of the list\n",
    "- insert: add 1 element anywhere in the list\n",
    "- remove: delete using element/address\n",
    "- pop: delete from the last\n",
    "- del: delete using address"
   ]
  },
  {
   "cell_type": "code",
   "execution_count": 32,
   "metadata": {},
   "outputs": [
    {
     "name": "stdout",
     "output_type": "stream",
     "text": [
      "[1, 2, 3]\n",
      "[1, 2, 3, [...]]\n",
      "[1, 2, 3, [...], ['hello', 'add', 32.45]]\n"
     ]
    }
   ],
   "source": [
    "#append single value\n",
    "\n",
    "l=[1,2]\n",
    "l.append(3)\n",
    "print(l)\n",
    "\n",
    "#nesting of lists\n",
    "\n",
    "l.append(l)\n",
    "print(l)\n",
    "\n",
    "l.append([\"hello\",\"add\",32.45])\n",
    "print(l)"
   ]
  },
  {
   "cell_type": "code",
   "execution_count": 36,
   "metadata": {},
   "outputs": [
    {
     "name": "stdout",
     "output_type": "stream",
     "text": [
      "[1, 2, 3]   New list:  [1, 2, 3, ['hello', 34.5]]\n",
      "[1, 2, 3]   New list:  [1, 2, 3, 'hello', 34.5]\n"
     ]
    }
   ],
   "source": [
    "# adding elements is diff from append:\n",
    "\n",
    "l=list([1,2,3])\n",
    "print(l,end=\"   New list:  \")\n",
    "l.append([\"hello\",34.5])\n",
    "print(l)\n",
    "\n",
    "m=list([1,2,3])\n",
    "print(m,end=\"   New list:  \")\n",
    "print(m+[\"hello\",34.5])"
   ]
  },
  {
   "cell_type": "code",
   "execution_count": 52,
   "metadata": {},
   "outputs": [
    {
     "name": "stdout",
     "output_type": "stream",
     "text": [
      "[1, 2, 3, ['hello', 23, 2]]\n",
      "3\n",
      "['hello', 23, 2]\n",
      "23\n"
     ]
    }
   ],
   "source": [
    "# accessing element in a 2d list:\n",
    "\n",
    "l=[1,2,3]\n",
    "l.append([\"hello\",23,2])\n",
    "print(l)\n",
    "\n",
    "print(l[2])\n",
    "print(l[3])\n",
    "print(l[3][1])\n"
   ]
  },
  {
   "cell_type": "code",
   "execution_count": 53,
   "metadata": {},
   "outputs": [
    {
     "name": "stdout",
     "output_type": "stream",
     "text": [
      "[1, 2, 3, ['hello', 23, 2]]\n",
      "[1, 2, ['hello', 23, 2]]\n",
      "[1, 2]\n"
     ]
    }
   ],
   "source": [
    "#removing elements from a lst:\n",
    "\n",
    "print(l)\n",
    "l.remove(3)\n",
    "print(l)\n",
    "l.remove(l[2])\n",
    "print(l)"
   ]
  },
  {
   "cell_type": "code",
   "execution_count": 57,
   "metadata": {},
   "outputs": [
    {
     "name": "stdout",
     "output_type": "stream",
     "text": [
      "[1, 2, 4, 5]\n"
     ]
    }
   ],
   "source": [
    "# del functionn to remove elements:\n",
    "\n",
    "l=[1,2,3,4,5]\n",
    "del l[2]\n",
    "print(l)\n"
   ]
  },
  {
   "cell_type": "code",
   "execution_count": 60,
   "metadata": {},
   "outputs": [
    {
     "name": "stdout",
     "output_type": "stream",
     "text": [
      "[1, 2, 4, 5]\n",
      "[1, 2, 4]\n"
     ]
    }
   ],
   "source": [
    "#popping\n",
    "# removes the last element\n",
    "print(l)\n",
    "l.pop()\n",
    "print(l)"
   ]
  },
  {
   "cell_type": "code",
   "execution_count": 61,
   "metadata": {},
   "outputs": [
    {
     "name": "stdout",
     "output_type": "stream",
     "text": [
      "[1, 2, 4]\n",
      "[1, 2, 4, 1, 2, 4, 1, 2, 4, 1, 2, 4]\n"
     ]
    }
   ],
   "source": [
    "#multiplying contents: \n",
    "\n",
    "print(l)\n",
    "l*=4\n",
    "print(l)"
   ]
  },
  {
   "cell_type": "code",
   "execution_count": 66,
   "metadata": {},
   "outputs": [
    {
     "name": "stdout",
     "output_type": "stream",
     "text": [
      "True\n"
     ]
    }
   ],
   "source": [
    "#searching in list:\n",
    "\n",
    "l=[ i for i in range(20)]\n",
    "print(12 in l)\n"
   ]
  },
  {
   "cell_type": "code",
   "execution_count": 76,
   "metadata": {},
   "outputs": [
    {
     "name": "stdout",
     "output_type": "stream",
     "text": [
      "0|1|2|3|4|5|6|7|8|9|10|11|12|13|14|15|16|17|18|19|\n",
      "0|1|2|3|4|5|6|7|8|9|10|11|12|13|14|15|16|17|18|19|"
     ]
    }
   ],
   "source": [
    "# printing elements:\n",
    "\n",
    "for i in l:\n",
    "    print(i,end=\"|\")\n",
    "    \n",
    "print()\n",
    "\n",
    "for i in l:    \n",
    "    print(l[i],end=\"|\")"
   ]
  },
  {
   "cell_type": "code",
   "execution_count": 114,
   "metadata": {},
   "outputs": [
    {
     "name": "stdout",
     "output_type": "stream",
     "text": [
      "[9, 16, 25, 36, 49]\n",
      "[9, 16, 25, 20, 36, 49]\n"
     ]
    }
   ],
   "source": [
    "# insertion elements:\n",
    "\n",
    "l=[i*i for i in range(3,8)]\n",
    "print(l)\n",
    "l.insert(3,20)\n",
    "print(l)"
   ]
  },
  {
   "cell_type": "code",
   "execution_count": 100,
   "metadata": {},
   "outputs": [
    {
     "name": "stdout",
     "output_type": "stream",
     "text": [
      "[9, 16, 25, 20, 36, 49, 20, 20, 20, 20, 20, 20, 20, 20, 20]\n",
      "49\n",
      "9\n"
     ]
    }
   ],
   "source": [
    "# finding maximum/min element in a list:\n",
    "\n",
    "print(l)\n",
    "print(max(l))\n",
    "print(min(l))"
   ]
  },
  {
   "cell_type": "code",
   "execution_count": 115,
   "metadata": {},
   "outputs": [
    {
     "name": "stdout",
     "output_type": "stream",
     "text": [
      "[9, 16, 25, 20, 36, 49]\n",
      "3\n",
      "3\n"
     ]
    }
   ],
   "source": [
    "# finding index of an element:\n",
    "#return error if element not found\n",
    "\n",
    "print(l)\n",
    "print(l.index(20))\n",
    "l.append(20)\n",
    "\n",
    "print(l.index(20))"
   ]
  },
  {
   "cell_type": "code",
   "execution_count": 134,
   "metadata": {},
   "outputs": [
    {
     "name": "stdout",
     "output_type": "stream",
     "text": [
      "['1', '2', '5', 'hello', 'iello', 'se']\n",
      "['1', '2', '5', 'hello', 'iello', 'se']\n",
      "['1', '2', '5', 'hello', 'iello', 'se']\n"
     ]
    },
    {
     "ename": "TypeError",
     "evalue": "Function takes at least 1 positional arguments (0 given)",
     "output_type": "error",
     "traceback": [
      "\u001b[1;31m---------------------------------------------------------------------------\u001b[0m",
      "\u001b[1;31mTypeError\u001b[0m                                 Traceback (most recent call last)",
      "\u001b[1;32m<ipython-input-134-bcba54cd0f19>\u001b[0m in \u001b[0;36m<module>\u001b[1;34m()\u001b[0m\n\u001b[0;32m      6\u001b[0m \u001b[0ml\u001b[0m\u001b[1;33m=\u001b[0m\u001b[0msorted\u001b[0m\u001b[1;33m(\u001b[0m\u001b[0ml\u001b[0m\u001b[1;33m)\u001b[0m\u001b[1;33m\u001b[0m\u001b[0m\n\u001b[0;32m      7\u001b[0m \u001b[0mprint\u001b[0m\u001b[1;33m(\u001b[0m\u001b[0ml\u001b[0m\u001b[1;33m)\u001b[0m\u001b[1;33m\u001b[0m\u001b[0m\n\u001b[1;32m----> 8\u001b[1;33m \u001b[0ml\u001b[0m\u001b[1;33m=\u001b[0m\u001b[0msorted\u001b[0m\u001b[1;33m(\u001b[0m\u001b[0mrev\u001b[0m\u001b[1;33m=\u001b[0m\u001b[1;32mTrue\u001b[0m\u001b[1;33m)\u001b[0m\u001b[1;33m\u001b[0m\u001b[0m\n\u001b[0m",
      "\u001b[1;31mTypeError\u001b[0m: Function takes at least 1 positional arguments (0 given)"
     ]
    }
   ],
   "source": [
    "# sorting of a list using sorted:\n",
    "# this does not change the original list\n",
    "\n",
    "print(sorted(l))\n",
    "print(l)\n",
    "l=sorted(l)\n",
    "print(l)"
   ]
  },
  {
   "cell_type": "code",
   "execution_count": 132,
   "metadata": {},
   "outputs": [
    {
     "data": {
      "text/plain": [
       "['1', '2', '5', 'hello', 'iello', 'se']"
      ]
     },
     "execution_count": 132,
     "metadata": {},
     "output_type": "execute_result"
    }
   ],
   "source": [
    "# sorting of a list containing strings only:\n",
    "#here sorting is acc to dictionary\n",
    "\n",
    "l=[\"1\",\"2\",\"hello\",\"se\",\"iello\",\"5\"]\n",
    "sorted(l)"
   ]
  },
  {
   "cell_type": "code",
   "execution_count": 141,
   "metadata": {},
   "outputs": [
    {
     "name": "stdout",
     "output_type": "stream",
     "text": [
      "[1, 2, 3, 4, 4, 7]\n",
      "[7, 4, 4, 3, 2, 1]\n"
     ]
    }
   ],
   "source": [
    "# sorting using sort function:\n",
    "\n",
    "l=[1,4,2,7,4,3]\n",
    "l.sort()    \n",
    "\"\"\"here list is a class and we made an object l of that class & this object access the function sort of that class using \n",
    "l.sort()\"\"\"\n",
    "print(l)\n",
    "l.sort(reverse=True)            # reerse sort\n",
    "print(l)\n",
    "\n"
   ]
  },
  {
   "cell_type": "code",
   "execution_count": 14,
   "metadata": {},
   "outputs": [
    {
     "name": "stdout",
     "output_type": "stream",
     "text": [
      "1 2 6 3 9\n",
      "<class 'list'>\n",
      "[1, 2, 6, 3, 9]\n",
      "1 2 6 3 9 "
     ]
    }
   ],
   "source": [
    "# taking an int list input:\n",
    "\n",
    "n=[int(i) for i in input().split()]\n",
    "print(type(n))\n",
    "\n",
    "print(n)\n",
    "# or\n",
    "\n",
    "for i in n:\n",
    "    print(i,end=\" \")"
   ]
  }
 ],
 "metadata": {
  "kernelspec": {
   "display_name": "Python 3",
   "language": "python",
   "name": "python3"
  },
  "language_info": {
   "codemirror_mode": {
    "name": "ipython",
    "version": 3
   },
   "file_extension": ".py",
   "mimetype": "text/x-python",
   "name": "python",
   "nbconvert_exporter": "python",
   "pygments_lexer": "ipython3",
   "version": "3.6.5"
  }
 },
 "nbformat": 4,
 "nbformat_minor": 2
}
