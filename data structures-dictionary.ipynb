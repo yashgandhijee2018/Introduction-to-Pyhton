{
 "cells": [
  {
   "cell_type": "markdown",
   "metadata": {},
   "source": [
    "# Dictionary:\n",
    "- used to store keys\n",
    "- keys are stored in random order\n",
    "- dictionary are mutable but list are not mutable\n",
    "- keys can be int,another dictionary,list,etc or even an object\n",
    "- dictionary can also be passed to json format"
   ]
  },
  {
   "cell_type": "code",
   "execution_count": 10,
   "metadata": {},
   "outputs": [
    {
     "name": "stdout",
     "output_type": "stream",
     "text": [
      "d: <class 'dict'>\n",
      "e: <class 'dict'>\n"
     ]
    }
   ],
   "source": [
    "# defining dictionary:\n",
    "\n",
    "d={\"mango\":120,\"grapes\":70,\"orange\":35,\"c324\":\"kalu\"}\n",
    "print(\"d:\",type(d))\n",
    "\n",
    "e={}\n",
    "print(\"e:\",type(e))"
   ]
  },
  {
   "cell_type": "code",
   "execution_count": 13,
   "metadata": {},
   "outputs": [
    {
     "name": "stdout",
     "output_type": "stream",
     "text": [
      "kalu\n",
      "<class 'str'>\n"
     ]
    }
   ],
   "source": [
    "#accessing key of the dictionary:\n",
    "\n",
    "print(d[\"c324\"])\n",
    "print(type(d[\"c324\"]))"
   ]
  },
  {
   "cell_type": "code",
   "execution_count": 14,
   "metadata": {},
   "outputs": [
    {
     "name": "stdout",
     "output_type": "stream",
     "text": [
      "{'mango': 120, 'grapes': 70, 'orange': 35, 'c324': 'kalu', 'mohandas': 'bapu'}\n"
     ]
    }
   ],
   "source": [
    "#adding new keys:\n",
    "\n",
    "d[\"mohandas\"]=\"bapu\"\n",
    "print(d)"
   ]
  },
  {
   "cell_type": "code",
   "execution_count": 19,
   "metadata": {},
   "outputs": [
    {
     "name": "stdout",
     "output_type": "stream",
     "text": [
      "{'mango': 120, 'grapes': 70, 'apple': [70, 80]}\n",
      "{'ams': 'EWFn', 'efn': 'dkme', 'kl': 'kl', 'xy': ['n', 'hfrc']}\n"
     ]
    }
   ],
   "source": [
    "# adding keys with multiple values / list of values:\n",
    "\n",
    "d={\"mango\":120,\"grapes\":70}\n",
    "d[\"apple\"]=[70,80]\n",
    "print(d)\n",
    "\n",
    "e={\"ams\":\"EWFn\",\"efn\":\"dkme\",\"kl\":\"kl\"}\n",
    "e[\"xy\"]=[\"n\",\"hfrc\"]\n",
    "print(e)"
   ]
  },
  {
   "cell_type": "code",
   "execution_count": 20,
   "metadata": {},
   "outputs": [
    {
     "name": "stdout",
     "output_type": "stream",
     "text": [
      "{'mango': 120, 'grapes': 70, 'apple': [70, 80], 'bike': {'ninja': 'kawasaki', 'bobber': 'hardley davidson'}}\n"
     ]
    }
   ],
   "source": [
    "# dictionary inside a dictionary (nesting of dictionary):\n",
    "\n",
    "d={'mango': 120, 'grapes': 70, 'apple': [70, 80]}\n",
    "d[\"bike\"]={\"ninja\":\"kawasaki\",\"bobber\":\"hardley davidson\"}\n",
    "print(d)"
   ]
  },
  {
   "cell_type": "code",
   "execution_count": 24,
   "metadata": {},
   "outputs": [
    {
     "name": "stdout",
     "output_type": "stream",
     "text": [
      "{'mango': 120, 'grapes': 70, 'apple': [70, 80], 'bike': {'ninja': 'kawasaki', 'bobber': 'hardley davidson'}}\n",
      "kawasaki\n",
      "{'ninja': 'kawasaki', 'bobber': 'hardley davidson'}\n",
      "<class 'str'>\n"
     ]
    }
   ],
   "source": [
    "#accessing element of the nested dictionary:\n",
    "\n",
    "print(d)\n",
    "print(d[\"bike\"][\"ninja\"])\n",
    "print(d[\"bike\"])\n",
    "print(type(d[\"bike\"][\"ninja\"]))"
   ]
  },
  {
   "cell_type": "code",
   "execution_count": 26,
   "metadata": {},
   "outputs": [
    {
     "name": "stdout",
     "output_type": "stream",
     "text": [
      "dict_values([120, 70, [70, 80], {'ninja': 'kawasaki', 'bobber': 'hardley davidson'}])\n"
     ]
    }
   ],
   "source": [
    "#displaying values:\n",
    "\n",
    "print(d.values())"
   ]
  },
  {
   "cell_type": "markdown",
   "metadata": {},
   "source": [
    "## functions in dictionary:"
   ]
  },
  {
   "cell_type": "code",
   "execution_count": 29,
   "metadata": {},
   "outputs": [
    {
     "name": "stdout",
     "output_type": "stream",
     "text": [
      "{'mango': 120, 'grapes': 70, 'apple': [70, 80], 'bike': {'ninja': 'kawasaki', 'bobber': 'hardley davidson'}}\n",
      "[70, 80]\n",
      "[70, 80]\n",
      "120\n",
      "not found\n"
     ]
    }
   ],
   "source": [
    "# display values inside a key:  d.get()\n",
    "\n",
    "print(d)\n",
    "print(d[\"apple\"])                              #return error if key not exsists\n",
    "print(d.get(\"apple\"))                          #return none if key not exsists\n",
    "\n",
    "if \"mango\" in d:\n",
    "    print(d[\"mango\"])\n",
    "else:\n",
    "    print(\"not found\")\n",
    "    \n",
    "if \"peach\" in d:\n",
    "    print(d[\"peach\"])\n",
    "else:\n",
    "    print(\"not found\")"
   ]
  },
  {
   "cell_type": "code",
   "execution_count": 31,
   "metadata": {},
   "outputs": [
    {
     "name": "stdout",
     "output_type": "stream",
     "text": [
      "dict_keys(['mango', 'grapes', 'apple', 'bike'])\n",
      "<class 'dict_keys'>\n"
     ]
    }
   ],
   "source": [
    "# displaying keys:  d.keys()            -----list of keys\n",
    "\n",
    "print(d.keys())\n",
    "print(type(d.keys()))"
   ]
  },
  {
   "cell_type": "code",
   "execution_count": 33,
   "metadata": {},
   "outputs": [
    {
     "name": "stdout",
     "output_type": "stream",
     "text": [
      "dict_values([120, 70, [70, 80], {'ninja': 'kawasaki', 'bobber': 'hardley davidson'}])\n"
     ]
    },
    {
     "data": {
      "text/plain": [
       "dict_values"
      ]
     },
     "execution_count": 33,
     "metadata": {},
     "output_type": "execute_result"
    }
   ],
   "source": [
    "#displaying values:  d.values()       ----------list of values\n",
    "\n",
    "print(d.values())\n",
    "type(d.values())"
   ]
  },
  {
   "cell_type": "code",
   "execution_count": 34,
   "metadata": {},
   "outputs": [
    {
     "name": "stdout",
     "output_type": "stream",
     "text": [
      "dict_items([('mango', 120), ('grapes', 70), ('apple', [70, 80]), ('bike', {'ninja': 'kawasaki', 'bobber': 'hardley davidson'})])\n"
     ]
    }
   ],
   "source": [
    "# display items: d.items()          ----------list of touples\n",
    "\n",
    "print(d.items())"
   ]
  },
  {
   "cell_type": "code",
   "execution_count": 41,
   "metadata": {},
   "outputs": [
    {
     "name": "stdout",
     "output_type": "stream",
     "text": [
      "{'keyboard': 'wipro', 'phone': 'apple', 'watch': 'rolex', 'car': 'buggati'}\n"
     ]
    }
   ],
   "source": [
    "# deleting a key:\n",
    "\n",
    "a={\"mouse\":\"logitech\",\"keyboard\":\"wipro\",\"phone\":\"apple\",\"watch\":\"rolex\",\"car\":\"buggati\"}\n",
    "del a[\"mouse\"]\n",
    "print(a)"
   ]
  },
  {
   "cell_type": "code",
   "execution_count": 48,
   "metadata": {},
   "outputs": [
    {
     "name": "stdout",
     "output_type": "stream",
     "text": [
      "{'keyboard': 'wipro', 'phone': 'apple', 'watch': 'rolex', 'car': 'buggati'}\n",
      "{'mango': 120, 'grapes': 70, 'apple': [70, 80], 'bike': {'ninja': 'kawasaki', 'bobber': 'hardley davidson'}, 'keyboard': 'wipro', 'phone': 'apple', 'watch': 'rolex', 'car': 'buggati'}\n",
      "\n",
      "{'mango': 120, 'grapes': 70, 'apple': [70, 80], 'bike': {'ninja': 'kawasaki', 'bobber': 'hardley davidson'}, 'keyboard': 'wipro', 'phone': 'apple', 'watch': 'rolex', 'car': 'buggati'}\n"
     ]
    }
   ],
   "source": [
    "#updating a dictionary:\n",
    "\n",
    "print(a)\n",
    "print(d)\n",
    "d.update(a)\n",
    "print()\n",
    "print(d)"
   ]
  },
  {
   "cell_type": "code",
   "execution_count": 50,
   "metadata": {},
   "outputs": [
    {
     "name": "stdout",
     "output_type": "stream",
     "text": [
      "8\n"
     ]
    }
   ],
   "source": [
    "# length of dictionary\n",
    "\n",
    "print(len(d))"
   ]
  },
  {
   "cell_type": "code",
   "execution_count": 51,
   "metadata": {},
   "outputs": [
    {
     "name": "stdout",
     "output_type": "stream",
     "text": [
      "{}\n"
     ]
    }
   ],
   "source": [
    "#clearing a dictionary:\n",
    "\n",
    "d.clear()\n",
    "print(d)"
   ]
  },
  {
   "cell_type": "code",
   "execution_count": 64,
   "metadata": {},
   "outputs": [
    {
     "name": "stdout",
     "output_type": "stream",
     "text": [
      "{'abc': 1, 'def': 2, 'ghi': 3, 'jkl': 4, 'mno': 5}\n"
     ]
    }
   ],
   "source": [
    "# creating a dictionary from lists of key and values:\n",
    "\n",
    "l_key=[\"abc\",\"def\",\"ghi\",\"jkl\",\"mno\"]\n",
    "l_value=[1,2,3,4,5]\n",
    "\n",
    "a=dict(zip(l_key,l_value))\n",
    "print(a)"
   ]
  },
  {
   "cell_type": "code",
   "execution_count": 70,
   "metadata": {},
   "outputs": [
    {
     "name": "stdout",
     "output_type": "stream",
     "text": [
      "abc\n",
      "def\n",
      "ghi\n",
      "jkl\n",
      "mno\n",
      "\n",
      "abc\n",
      "def\n",
      "ghi\n",
      "jkl\n",
      "mno\n"
     ]
    }
   ],
   "source": [
    "#iterating over the keys:\n",
    "\n",
    "for k in a:\n",
    "    print(k)\n",
    "    \n",
    "# OR\n",
    "print()\n",
    "for k in a.keys():\n",
    "    print(k)"
   ]
  },
  {
   "cell_type": "code",
   "execution_count": 72,
   "metadata": {},
   "outputs": [
    {
     "name": "stdout",
     "output_type": "stream",
     "text": [
      "1\n",
      "2\n",
      "3\n",
      "4\n",
      "5\n"
     ]
    }
   ],
   "source": [
    "#iterating over the values:\n",
    "\n",
    "for v in a.values():\n",
    "    print(v)"
   ]
  },
  {
   "cell_type": "code",
   "execution_count": null,
   "metadata": {},
   "outputs": [],
   "source": []
  }
 ],
 "metadata": {
  "kernelspec": {
   "display_name": "Python 3",
   "language": "python",
   "name": "python3"
  },
  "language_info": {
   "codemirror_mode": {
    "name": "ipython",
    "version": 3
   },
   "file_extension": ".py",
   "mimetype": "text/x-python",
   "name": "python",
   "nbconvert_exporter": "python",
   "pygments_lexer": "ipython3",
   "version": "3.6.5"
  }
 },
 "nbformat": 4,
 "nbformat_minor": 2
}
