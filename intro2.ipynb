{
 "cells": [
  {
   "cell_type": "markdown",
   "metadata": {},
   "source": [
    "## If Else statements"
   ]
  },
  {
   "cell_type": "code",
   "execution_count": 1,
   "metadata": {},
   "outputs": [
    {
     "name": "stdout",
     "output_type": "stream",
     "text": [
      "Enter the day: 3\n",
      "wed\n"
     ]
    }
   ],
   "source": [
    "a=int(input(\"Enter the day: \"))\n",
    "if(a==1):\n",
    "    print(\"mon\")\n",
    "elif(a==2):\n",
    "    print(\"tue\")\n",
    "elif(a==3):\n",
    "    print(\"wed\")\n",
    "elif(a==4):\n",
    "    print(\"thu\")\n",
    "elif(a==5):\n",
    "    print(\"fri\")\n",
    "elif(a==6):\n",
    "    print(\"sat\")\n",
    "elif(a==7):\n",
    "    print(\"sun\")\n",
    "else:\n",
    "    print(\"Enter a valid number\")\n",
    "\n"
   ]
  },
  {
   "cell_type": "markdown",
   "metadata": {},
   "source": [
    "# Loops"
   ]
  },
  {
   "cell_type": "markdown",
   "metadata": {},
   "source": [
    "- while loop"
   ]
  },
  {
   "cell_type": "code",
   "execution_count": 2,
   "metadata": {},
   "outputs": [
    {
     "name": "stdout",
     "output_type": "stream",
     "text": [
      "0 times hello world\n",
      "1 times hello world\n",
      "2 times hello world\n",
      "3 times hello world\n",
      "4 times hello world\n",
      "5 times hello world\n",
      "6 times hello world\n",
      "7 times hello world\n",
      "8 times hello world\n",
      "9 times hello world\n",
      "10\n"
     ]
    }
   ],
   "source": [
    "i=0\n",
    "n=10\n",
    "while(i<n):\n",
    "    print(\"%d times hello world\"%i)\n",
    "    i+=1\n",
    "print(i)"
   ]
  },
  {
   "cell_type": "code",
   "execution_count": 3,
   "metadata": {},
   "outputs": [
    {
     "name": "stdout",
     "output_type": "stream",
     "text": [
      "* \n",
      "* * \n",
      "* * * \n",
      "* * * * \n",
      "* * * * * \n"
     ]
    }
   ],
   "source": [
    "i,j=0,0\n",
    "n=5\n",
    "\n",
    "while(i<n):\n",
    "    j=0\n",
    "    while(j<=i):\n",
    "        print(\"*\",end=\" \")\n",
    "        j+=1\n",
    "    print(\"\")\n",
    "    i+=1"
   ]
  },
  {
   "cell_type": "code",
   "execution_count": 4,
   "metadata": {},
   "outputs": [
    {
     "name": "stdout",
     "output_type": "stream",
     "text": [
      "* * * * * \n",
      "* * * * \n",
      "* * * \n",
      "* * \n",
      "* \n"
     ]
    }
   ],
   "source": [
    "i=5\n",
    "j=1\n",
    "\n",
    "while(i>=1):\n",
    "    j=1\n",
    "    while(j<=i):\n",
    "        print(\"*\",end=\" \")\n",
    "        j+=1\n",
    "    print(\"\")\n",
    "    i-=1"
   ]
  },
  {
   "cell_type": "code",
   "execution_count": 5,
   "metadata": {},
   "outputs": [
    {
     "name": "stdout",
     "output_type": "stream",
     "text": [
      "* * * * * \n",
      "  * * * * \n",
      "    * * * \n",
      "      * * \n",
      "        * \n"
     ]
    }
   ],
   "source": [
    "i,j,k=5,1,1\n",
    "\n",
    "while(i>=1):\n",
    "    j,k=1,1\n",
    "    \n",
    "    while(k<=(5-i)):\n",
    "        print(\" \",end=\" \")\n",
    "        k+=1\n",
    "    while(j<=i):\n",
    "        print(\"*\",end=\" \")\n",
    "        j+=1\n",
    "        \n",
    "    print(\"\")\n",
    "    i-=1\n",
    "    \n",
    "    "
   ]
  },
  {
   "cell_type": "code",
   "execution_count": 6,
   "metadata": {},
   "outputs": [
    {
     "name": "stdout",
     "output_type": "stream",
     "text": [
      "        * \n",
      "      * * \n",
      "    * * * \n",
      "  * * * * \n",
      "* * * * * \n"
     ]
    }
   ],
   "source": [
    "i,j,k=1,1,1\n",
    "\n",
    "while(i<=5):\n",
    "    j,k=1,1\n",
    "    \n",
    "    while(k<=(5-i)):\n",
    "        print(\" \",end=\" \")\n",
    "        k+=1\n",
    "    while(j<=i):\n",
    "        print(\"*\",end=\" \")\n",
    "        j+=1\n",
    "    print(\"\")\n",
    "    i+=1"
   ]
  },
  {
   "cell_type": "markdown",
   "metadata": {},
   "source": [
    "- for loop"
   ]
  },
  {
   "cell_type": "code",
   "execution_count": 7,
   "metadata": {},
   "outputs": [
    {
     "name": "stdout",
     "output_type": "stream",
     "text": [
      "1 2 3 4 5 6 7 8 9 "
     ]
    }
   ],
   "source": [
    "for i in range(1,10):      \n",
    "    print(\"%d\"%i,end=\" \")"
   ]
  },
  {
   "cell_type": "code",
   "execution_count": 8,
   "metadata": {},
   "outputs": [
    {
     "name": "stdout",
     "output_type": "stream",
     "text": [
      "1 4 7 10 13 16 19 "
     ]
    }
   ],
   "source": [
    "for i in range(1,20,3):\n",
    "    print(i,end=\" \")"
   ]
  },
  {
   "cell_type": "code",
   "execution_count": 9,
   "metadata": {},
   "outputs": [
    {
     "name": "stdout",
     "output_type": "stream",
     "text": [
      "Enter the number: 8\n",
      "factorial is: 40320\n"
     ]
    }
   ],
   "source": [
    "prod=1\n",
    "n=int(input(\"Enter the number: \"))\n",
    "for i in range(n,1,-1):\n",
    "    prod*=i\n",
    "print(\"factorial is:\",prod)"
   ]
  },
  {
   "cell_type": "code",
   "execution_count": 10,
   "metadata": {},
   "outputs": [
    {
     "name": "stdout",
     "output_type": "stream",
     "text": [
      "0\n",
      "1\n",
      "2\n",
      "3\n",
      "4\n",
      "5\n",
      "6\n",
      "7\n",
      "8\n",
      "9\n"
     ]
    }
   ],
   "source": [
    "n=10\n",
    "for x in range(n):\n",
    "    print(x)"
   ]
  },
  {
   "cell_type": "code",
   "execution_count": 11,
   "metadata": {},
   "outputs": [
    {
     "name": "stdout",
     "output_type": "stream",
     "text": [
      "0 0 0 0 0 0 0 0 0 \n",
      "0 1 1 1 1 1 1 1 0 \n",
      "0 1 2 2 2 2 2 1 0 \n",
      "0 1 2 3 3 3 2 1 0 \n",
      "0 1 2 3 4 3 2 1 0 \n",
      "0 1 2 3 3 3 2 1 0 \n",
      "0 1 2 2 2 2 2 1 0 \n",
      "0 1 1 1 1 1 1 1 0 \n",
      "0 0 0 0 0 0 0 0 0 \n"
     ]
    }
   ],
   "source": [
    "for i in range(9):\n",
    "    for j in range(9):\n",
    "        print(min(8-i,8-j,i,j),end=\" \")\n",
    "    print()"
   ]
  },
  {
   "cell_type": "markdown",
   "metadata": {},
   "source": [
    "## Pass, break,continue"
   ]
  },
  {
   "cell_type": "code",
   "execution_count": 12,
   "metadata": {},
   "outputs": [],
   "source": [
    "for i in range(10):\n",
    "    pass"
   ]
  },
  {
   "cell_type": "code",
   "execution_count": 13,
   "metadata": {},
   "outputs": [
    {
     "name": "stdout",
     "output_type": "stream",
     "text": [
      "0 1 2 3 4 5 6 7 8 9 "
     ]
    }
   ],
   "source": [
    "for i in range(10):\n",
    "    if(i==5):\n",
    "        pass\n",
    "    print(i,end=\" \")"
   ]
  },
  {
   "cell_type": "code",
   "execution_count": 14,
   "metadata": {},
   "outputs": [
    {
     "name": "stdout",
     "output_type": "stream",
     "text": [
      "0 1 2 3 4 "
     ]
    }
   ],
   "source": [
    "for i in range(10):\n",
    "    if(i==5):\n",
    "        break\n",
    "    print(i,end=\" \")"
   ]
  },
  {
   "cell_type": "code",
   "execution_count": 15,
   "metadata": {},
   "outputs": [
    {
     "name": "stdout",
     "output_type": "stream",
     "text": [
      "0 1 2 3 4 5 "
     ]
    }
   ],
   "source": [
    "for i in range(10):\n",
    "    print(i,end=\" \")\n",
    "    if(i==5):\n",
    "        break"
   ]
  },
  {
   "cell_type": "code",
   "execution_count": 26,
   "metadata": {},
   "outputs": [
    {
     "name": "stdout",
     "output_type": "stream",
     "text": [
      "400 361 324 289 256 225 196 169 144 121 100 81 64 49 36 25 16 9 4 "
     ]
    }
   ],
   "source": [
    "for i in range(20,1,-1):\n",
    "    print(\"%d\"%(i*i),end=\" \") "
   ]
  },
  {
   "cell_type": "code",
   "execution_count": 48,
   "metadata": {},
   "outputs": [
    {
     "name": "stdout",
     "output_type": "stream",
     "text": [
      "* \n",
      "* * * \n",
      "* * * * * \n",
      "* * * * * * * \n",
      "* * * * * * * * * \n",
      "* * * * * * * * * * * \n",
      "* * * * * * * * * * * * * \n",
      "* * * * * * * * * * * * * * * \n",
      "* * * * * * * * * * * * * * * * * \n",
      "* * * * * * * * * * * * * * * * * * * \n"
     ]
    }
   ],
   "source": [
    "for i in range(20):\n",
    "    if(i%2==0):\n",
    "        continue\n",
    "    print(\"* \"*i)"
   ]
  },
  {
   "cell_type": "code",
   "execution_count": 31,
   "metadata": {},
   "outputs": [
    {
     "name": "stdout",
     "output_type": "stream",
     "text": [
      "\n",
      "1 \n",
      "2 2 \n",
      "3 3 3 \n",
      "4 4 4 4 \n",
      "5 5 5 5 5 \n",
      "6 6 6 6 6 6 \n",
      "7 7 7 7 7 7 7 \n",
      "8 8 8 8 8 8 8 8 \n",
      "9 9 9 9 9 9 9 9 9 \n"
     ]
    }
   ],
   "source": [
    "for i in range(10):\n",
    "    print(\"%d \"%i*i)"
   ]
  },
  {
   "cell_type": "code",
   "execution_count": 42,
   "metadata": {},
   "outputs": [
    {
     "name": "stdout",
     "output_type": "stream",
     "text": [
      "0 sheep\n",
      "1 sheep\n",
      "2 sheeps\n",
      "3 sheeps\n",
      "4 dogs\n",
      "5 sheeps\n",
      "6 sheeps\n",
      "7 sheeps\n",
      "8 sheeps\n",
      "9 sheeps\n"
     ]
    }
   ],
   "source": [
    "for i in range(10):\n",
    "    print(i,end=\" \")\n",
    "    if(i==4):\n",
    "        print(\"dogs\")\n",
    "        continue\n",
    "    if(i==0 or i==1):\n",
    "        print(\"sheep\")\n",
    "    else:\n",
    "        print(\"sheeps\")\n",
    "        \n",
    "    "
   ]
  },
  {
   "cell_type": "code",
   "execution_count": 53,
   "metadata": {},
   "outputs": [
    {
     "name": "stdout",
     "output_type": "stream",
     "text": [
      "20\n",
      "3\n",
      "5\n",
      "7\n",
      "9\n",
      "11\n",
      "13\n",
      "15\n",
      "17\n",
      "19\n"
     ]
    }
   ],
   "source": [
    "n=int(input())\n",
    "for i in range(2,n+1):\n",
    "    for j in range(2,i):\n",
    "        if(i%j==0):\n",
    "            break\n",
    "        else:\n",
    "            print(i)\n",
    "            break"
   ]
  },
  {
   "cell_type": "markdown",
   "metadata": {},
   "source": [
    "## functions and passing arguments"
   ]
  },
  {
   "cell_type": "code",
   "execution_count": 57,
   "metadata": {},
   "outputs": [
    {
     "name": "stdout",
     "output_type": "stream",
     "text": [
      "hello hello hello hello hello hello hello hello  \n",
      "world world world world world world  \n",
      "14\n"
     ]
    }
   ],
   "source": [
    "def function1(a,b,c):\n",
    "    c=a+b\n",
    "    print(\"hello \"*a,end=\" \")\n",
    "    print()\n",
    "    print(\"world \"*b,end=\" \")\n",
    "    print()\n",
    "    print(c)\n",
    "\n",
    "function1(8,6,5)      #order must be the same.."
   ]
  },
  {
   "cell_type": "code",
   "execution_count": 59,
   "metadata": {},
   "outputs": [
    {
     "name": "stdout",
     "output_type": "stream",
     "text": [
      "hello yash  of class 12th and roll number 567\n",
      "hello aman  of class 5 and roll number 21\n"
     ]
    }
   ],
   "source": [
    "def fun(name,roll,cls):\n",
    "    print(\"hello %s \"%name,\"of class\",str(cls),\"and roll number \"+str(roll))\n",
    "\n",
    "fun(\"yash\",567,\"12th\")      #order must be the same\n",
    "fun(roll=21,name=\"aman\",cls=5)           #or use this method"
   ]
  },
  {
   "cell_type": "markdown",
   "metadata": {},
   "source": [
    "## strings and methods\n",
    "#### Let a be  string then operations possible are:\n",
    "- len(a)\n",
    "- enumerate with for loop\n",
    "- slicing of string using a[x:y]\n",
    "- if \"bai\" in a: wala function\n",
    "- a.split()\n",
    "- a.splitlines()\n",
    "- a.split(\"xyz\")\n",
    "- a.lstrip() a.rstrip() a.strip()\n",
    "- a.upper() a.lower()\n",
    "- a.isupper() a.islower()\n",
    "- a.isdigit() a.isalpha()\n",
    "- a.isalnum()\n",
    "- a.find(\"element\") :return -1 if not found\n",
    "- a.index(\"element\"):return error if nothing found\n",
    "  (both can contain other 2 arguments of starting and endng point of search)\n",
    "- a.count(\"element\")\n",
    "- a.replace(\"old\",\"new\")\n",
    "- \"desired_character\".join(a.split()) : joins list of elements of a again to a str type.\n",
    "- a.capitalize(): capitalize first letter ot the string\n",
    "- a.title(): capitalize every first encountered char after a blank space "
   ]
  },
  {
   "cell_type": "code",
   "execution_count": 64,
   "metadata": {},
   "outputs": [
    {
     "name": "stdout",
     "output_type": "stream",
     "text": [
      "n\n",
      "i\n",
      "d\n",
      "Length is: 6\n"
     ]
    }
   ],
   "source": [
    "a=\"gandhi\"\n",
    "print(a[2])\n",
    "print(a[-1])\n",
    "print(a[-3])\n",
    "print(\"Length is: \"+str(len(a)))"
   ]
  },
  {
   "cell_type": "code",
   "execution_count": 65,
   "metadata": {},
   "outputs": [],
   "source": [
    "# Note: Strings are not mutable!"
   ]
  },
  {
   "cell_type": "code",
   "execution_count": 70,
   "metadata": {},
   "outputs": [
    {
     "name": "stdout",
     "output_type": "stream",
     "text": [
      "b w b w b w\n",
      "u e u e u e\n",
      "l l l l l l\n",
      "c c c c c c\n",
      "  o   o   o\n",
      "e m e m e m\n",
      "h e h e h e\n",
      "t   t   t  \n",
      "  t   t   t\n",
      "o o o o o o\n",
      "t   t   t  \n",
      "  t   t   t\n",
      "e h e h e h\n",
      "m e m e m e\n",
      "o   o   o  \n",
      "c c c c c c\n",
      "l l l l l l\n",
      "e u e u e u\n",
      "w b w b w b\n"
     ]
    }
   ],
   "source": [
    "a=\"welcome to the club\"\n",
    "for i in range(len(a)):\n",
    "    print(a[-(i+1)],a[i],a[-(i+1)],a[i],a[-(i+1)],a[i])"
   ]
  },
  {
   "cell_type": "code",
   "execution_count": 71,
   "metadata": {},
   "outputs": [
    {
     "name": "stdout",
     "output_type": "stream",
     "text": [
      "h e l l o   w o r l d "
     ]
    }
   ],
   "source": [
    "a=\"hello world\"                 #for loop in py is more like for each loop in other language\n",
    "for i in a:\n",
    "    print(i,end=\" \")"
   ]
  },
  {
   "cell_type": "code",
   "execution_count": 75,
   "metadata": {},
   "outputs": [
    {
     "name": "stdout",
     "output_type": "stream",
     "text": [
      "1\n",
      "25\n",
      "4.47\n",
      "True\n",
      "bapu hari laal\n"
     ]
    }
   ],
   "source": [
    "a=[1,23+2,4.47,True,\"bapu hari laal\"]\n",
    "for i in a:\n",
    "    print(i)"
   ]
  },
  {
   "cell_type": "code",
   "execution_count": 77,
   "metadata": {},
   "outputs": [
    {
     "data": {
      "text/plain": [
       "range(0, 5)"
      ]
     },
     "execution_count": 77,
     "metadata": {},
     "output_type": "execute_result"
    }
   ],
   "source": [
    "range(len(a))"
   ]
  },
  {
   "cell_type": "code",
   "execution_count": 80,
   "metadata": {},
   "outputs": [
    {
     "name": "stdout",
     "output_type": "stream",
     "text": [
      "h\n",
      "e\n",
      "l\n",
      "l\n",
      "o\n",
      " \n",
      "w\n",
      "o\n",
      "r\n",
      "l\n",
      "d\n"
     ]
    }
   ],
   "source": [
    "a=\"hello world\"\n",
    "for i in a:                 #for each loop\n",
    "    print(i)                #cannot use this way when we require position also\n",
    "                            #hence we use enumerate\n",
    "    "
   ]
  },
  {
   "cell_type": "code",
   "execution_count": 82,
   "metadata": {},
   "outputs": [
    {
     "name": "stdout",
     "output_type": "stream",
     "text": [
      "Index:  0 \tValue:  h\n",
      "Index:  1 \tValue:  e\n",
      "Index:  2 \tValue:  l\n",
      "Index:  3 \tValue:  l\n",
      "Index:  4 \tValue:  o\n",
      "Index:  5 \tValue:   \n",
      "Index:  6 \tValue:  w\n",
      "Index:  7 \tValue:  o\n",
      "Index:  8 \tValue:  r\n",
      "Index:  9 \tValue:  l\n",
      "Index:  10 \tValue:  d\n"
     ]
    }
   ],
   "source": [
    "a=\"hello world\"\n",
    "for i,item in enumerate(a):\n",
    "    print(\"Index: \",i,\"\\tValue: \",item)"
   ]
  },
  {
   "cell_type": "code",
   "execution_count": 94,
   "metadata": {},
   "outputs": [
    {
     "name": "stdout",
     "output_type": "stream",
     "text": [
      "mango lala ka telephone ka chowkidaarjuice pee kar pubg khela\n",
      "mango lala ka telephone ka chowkidaar juice pee kar pubg khela\n",
      "lala ka telephone ka chowkidaar\n",
      "mango lala ka telephone ka chowkidaar\n",
      "mango lala\n",
      "mango lala ka telephone ka chowkid\n",
      "ngo \n",
      "aar\n",
      "daa\n"
     ]
    }
   ],
   "source": [
    "a=\"mango lala ka telephone ka chowkidaar\"\n",
    "b=\"juice pee kar pubg khela\"\n",
    "print(a+b)\n",
    "print(a,b)\n",
    "\n",
    "#slicing:\n",
    "print(a[6:])\n",
    "print(a[:])\n",
    "print(a[:10])\n",
    "print(a[:-3])\n",
    "print(a[2:6])\n",
    "print(a[-3:])\n",
    "print(a[-4:-1])"
   ]
  },
  {
   "cell_type": "code",
   "execution_count": 95,
   "metadata": {},
   "outputs": [
    {
     "name": "stdout",
     "output_type": "stream",
     "text": [
      "yes\n"
     ]
    }
   ],
   "source": [
    "#membership:\n",
    "a=\"porshe me baitha mochi\"\n",
    "if \"bai\" in a:\n",
    "    print(\"yes\")\n",
    "else:\n",
    "    print(\"no\")"
   ]
  },
  {
   "cell_type": "code",
   "execution_count": 97,
   "metadata": {},
   "outputs": [
    {
     "name": "stdout",
     "output_type": "stream",
     "text": [
      "yes\n"
     ]
    }
   ],
   "source": [
    "#membership:\n",
    "a=\"porshe me baitha mochi\"\n",
    "if \"bai\" not in a:\n",
    "    print(\"no\")\n",
    "else:\n",
    "    print(\"yes\")"
   ]
  },
  {
   "cell_type": "code",
   "execution_count": 99,
   "metadata": {},
   "outputs": [
    {
     "name": "stdout",
     "output_type": "stream",
     "text": [
      "this is a \n",
      "paragraph written in \n",
      "triple quotes\n"
     ]
    }
   ],
   "source": [
    "p=\"\"\"this is a \n",
    "paragraph written in \n",
    "triple quotes\"\"\"\n",
    "print(p)"
   ]
  },
  {
   "cell_type": "code",
   "execution_count": 105,
   "metadata": {},
   "outputs": [
    {
     "name": "stdout",
     "output_type": "stream",
     "text": [
      "['En3merated', 'power', 'is', 'a', 'political', 'power', 'specifically', 'delegated', 'to', 'a', 'governmental', 'branch', 'by', 'a', 'constitution.', '...', 'Enumerated', 'power', 'is', 'also', 'termed', 'as', 'express', 'power.']\n",
      "<class 'str'>\n",
      "<class 'list'>\n",
      "3\n",
      "<class 'str'>\n"
     ]
    }
   ],
   "source": [
    "#splittig across words\n",
    "\n",
    "p=\"\"\"En3merated power is a political power \n",
    "specifically delegated to a governmental branch\n",
    "by a constitution. ...  \n",
    "Enumerated power is also termed as express power.\"\"\"\n",
    "\n",
    "print(p.split())\n",
    "print(type(p.split()[3]))\n",
    "print(type(p.split()))\n",
    "\n",
    "\n",
    "a=p.split();\n",
    "l=a[0]\n",
    "print(l[2])\n",
    "print(type(l[2]))"
   ]
  },
  {
   "cell_type": "code",
   "execution_count": 107,
   "metadata": {},
   "outputs": [
    {
     "data": {
      "text/plain": [
       "[\"A sentence is a group of words that'\",\n",
       " 'are put together to mean something.',\n",
       " 'A sentence is the basic unit of ',\n",
       " 'language which expresses a complete thought.']"
      ]
     },
     "execution_count": 107,
     "metadata": {},
     "output_type": "execute_result"
    }
   ],
   "source": [
    "# splitting lines\n",
    "\n",
    "p=\"\"\"A sentence is a group of words that'\n",
    "are put together to mean something.\n",
    "A sentence is the basic unit of \n",
    "language which expresses a complete thought.\"\"\"\n",
    "p.splitlines()"
   ]
  },
  {
   "cell_type": "code",
   "execution_count": 112,
   "metadata": {},
   "outputs": [
    {
     "data": {
      "text/plain": [
       "['A sentence is ',\n",
       " ' group of words th',\n",
       " \"t'\\n\",\n",
       " 're put together to me',\n",
       " 'n something.\\nA sentence is the b',\n",
       " 'sic unit of \\nl',\n",
       " 'ngu',\n",
       " 'ge which expresses ',\n",
       " ' complete thought.']"
      ]
     },
     "execution_count": 112,
     "metadata": {},
     "output_type": "execute_result"
    }
   ],
   "source": [
    "# split across an alphabet\n",
    "\n",
    "p=\"\"\"A sentence is a group of words that'\n",
    "are put together to mean something.\n",
    "A sentence is the basic unit of \n",
    "language which expresses a complete thought.\"\"\"\n",
    "p.split(\"a\")"
   ]
  },
  {
   "cell_type": "code",
   "execution_count": 115,
   "metadata": {},
   "outputs": [
    {
     "data": {
      "text/plain": [
       "['', ' is a boy but ', ' is a girl ', ' ', '']"
      ]
     },
     "execution_count": 115,
     "metadata": {},
     "output_type": "execute_result"
    }
   ],
   "source": [
    "#split about a word\n",
    "line=\"she is a boy but she is a girl she she\"\n",
    "line.split(\"she\")\n"
   ]
  },
  {
   "cell_type": "code",
   "execution_count": 116,
   "metadata": {},
   "outputs": [
    {
     "name": "stdout",
     "output_type": "stream",
     "text": [
      "MANGO\n",
      "mango\n"
     ]
    }
   ],
   "source": [
    "a=\"ManGo\"\n",
    "a=a.upper()\n",
    "print(a)\n",
    "\n",
    "a=a.lower()\n",
    "print(a)"
   ]
  },
  {
   "cell_type": "code",
   "execution_count": 125,
   "metadata": {},
   "outputs": [
    {
     "name": "stdout",
     "output_type": "stream",
     "text": [
      "44\n",
      "    aaagfdxsaazfxcgj   uiyhgu               \n",
      "40\n",
      "aaagfdxsaazfxcgj   uiyhgu               \n",
      "25\n",
      "aaagfdxsaazfxcgj   uiyhgu\n"
     ]
    }
   ],
   "source": [
    "#l and r strip\n",
    "\n",
    "a=\"    aaagfdxsaazfxcgj   uiyhgu               \"\n",
    "print(len(a))\n",
    "print(a)\n",
    "\n",
    "a=a.lstrip()                     #remove leading white space\n",
    "print(len(a))\n",
    "print(a)\n",
    "\n",
    "a=a.rstrip()                    #remove ending wihte space\n",
    "print(len(a))\n",
    "print(a)\n",
    "\n"
   ]
  },
  {
   "cell_type": "code",
   "execution_count": 140,
   "metadata": {},
   "outputs": [
    {
     "name": "stdout",
     "output_type": "stream",
     "text": [
      "19\n",
      "19\n"
     ]
    }
   ],
   "source": [
    "#total strip\n",
    "\n",
    "a=\"%%!My Documentsyash\"\n",
    "print(len(a))\n",
    "a=a.strip()\n",
    "print(len(a))"
   ]
  },
  {
   "cell_type": "code",
   "execution_count": 153,
   "metadata": {},
   "outputs": [
    {
     "name": "stdout",
     "output_type": "stream",
     "text": [
      "True\n",
      "False\n",
      "False\n",
      "\n",
      "False\n",
      "True\n",
      "True\n",
      "\n",
      "False\n",
      "False\n",
      "False\n",
      "\n",
      "True\n",
      "False\n",
      "False\n"
     ]
    }
   ],
   "source": [
    "a=\"9354028507\"\n",
    "b=\"hello\"\n",
    "c=\"12.32\"\n",
    "d=\"54\"\n",
    "\n",
    "print(a.isdigit())\n",
    "print(a.isalpha())\n",
    "print(a.islower())\n",
    "print()\n",
    "print(b.isdigit())\n",
    "print(b.isalpha())\n",
    "print(b.islower())\n",
    "print()\n",
    "print(c.isdigit())\n",
    "print(c.isalpha())\n",
    "print(c.islower())\n",
    "print()\n",
    "print(d.isdigit())\n",
    "print(d.isalpha())\n",
    "print(d.islower())"
   ]
  },
  {
   "cell_type": "code",
   "execution_count": 162,
   "metadata": {},
   "outputs": [
    {
     "name": "stdout",
     "output_type": "stream",
     "text": [
      "True\n",
      "\n",
      "True\n",
      "False\n",
      "\n",
      "False\n",
      "True\n",
      "False\n"
     ]
    }
   ],
   "source": [
    "a=\"123\"\n",
    "b=\"123aQ@\"\n",
    "c=\"  \"\n",
    "\n",
    "print(c.isspace())\n",
    "print()\n",
    "\n",
    "print(a.isdigit())\n",
    "print(b.isdigit())\n",
    "print()\n",
    "\n",
    "print(a.isalpha())\n",
    "print(a.isalnum())\n",
    "print(b.isalnum())\n",
    "\n",
    "\n"
   ]
  },
  {
   "cell_type": "code",
   "execution_count": 173,
   "metadata": {},
   "outputs": [
    {
     "name": "stdout",
     "output_type": "stream",
     "text": [
      "9\n"
     ]
    }
   ],
   "source": [
    "a=\"hello ka apple\"\n",
    "print(a.find(\"apple\"))                    #find from beginning"
   ]
  },
  {
   "cell_type": "code",
   "execution_count": 181,
   "metadata": {},
   "outputs": [
    {
     "name": "stdout",
     "output_type": "stream",
     "text": [
      "-1\n",
      "-1\n",
      "6\n"
     ]
    }
   ],
   "source": [
    "a=\"hello pino ndoa fhie subf  eubd\"\n",
    "print(a.find(\"cedwnj\"))  #return -1 if nonthing found\n",
    "print(a.find(\"pino\",90,len(a)))\n",
    "print(a.index(\"pino\"))   #return an exception error if nothing is found"
   ]
  },
  {
   "cell_type": "code",
   "execution_count": 190,
   "metadata": {},
   "outputs": [
    {
     "name": "stdout",
     "output_type": "stream",
     "text": [
      "HE SELLS POND HELLS ON THE POND SHORE\n"
     ]
    }
   ],
   "source": [
    "a=\"she sells sea shells on the sea shore\"\n",
    "a=a.replace(\"she\",\"he\")\n",
    "a=a.replace(\"sea\",\"pond\")\n",
    "a=a.upper()\n",
    "\n",
    "print(a)\n"
   ]
  },
  {
   "cell_type": "code",
   "execution_count": 196,
   "metadata": {},
   "outputs": [
    {
     "name": "stdout",
     "output_type": "stream",
     "text": [
      "14\n",
      "2\n"
     ]
    }
   ],
   "source": [
    "a=\"i love eating apple in the apple store\"\n",
    "print(a.find(\"apple\"))\n",
    "print(a.count(\"apple\"))"
   ]
  },
  {
   "cell_type": "code",
   "execution_count": 199,
   "metadata": {},
   "outputs": [
    {
     "data": {
      "text/plain": [
       "'i@love@eating@apple@in@the@apple@store'"
      ]
     },
     "execution_count": 199,
     "metadata": {},
     "output_type": "execute_result"
    }
   ],
   "source": [
    "a=\"i love eating apple in the apple store\"\n",
    "l=a.split()\n",
    "\"@\".join(l)"
   ]
  },
  {
   "cell_type": "code",
   "execution_count": 203,
   "metadata": {},
   "outputs": [
    {
     "name": "stdout",
     "output_type": "stream",
     "text": [
      "Coding blocks\n",
      "Coding Blocks\n"
     ]
    }
   ],
   "source": [
    "name=\"coding blocks\"\n",
    "print(name.capitalize())\n",
    "print(name.title())"
   ]
  }
 ],
 "metadata": {
  "kernelspec": {
   "display_name": "Python 3",
   "language": "python",
   "name": "python3"
  },
  "language_info": {
   "codemirror_mode": {
    "name": "ipython",
    "version": 3
   },
   "file_extension": ".py",
   "mimetype": "text/x-python",
   "name": "python",
   "nbconvert_exporter": "python",
   "pygments_lexer": "ipython3",
   "version": "3.6.5"
  }
 },
 "nbformat": 4,
 "nbformat_minor": 2
}
