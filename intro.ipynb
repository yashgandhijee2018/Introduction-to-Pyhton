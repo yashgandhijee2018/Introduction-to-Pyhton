{
 "cells": [
  {
   "cell_type": "markdown",
   "metadata": {},
   "source": [
    "## Hello World"
   ]
  },
  {
   "cell_type": "code",
   "execution_count": 2,
   "metadata": {},
   "outputs": [
    {
     "name": "stdout",
     "output_type": "stream",
     "text": [
      "hello\n"
     ]
    }
   ],
   "source": [
    "print(\"hello\");"
   ]
  },
  {
   "cell_type": "markdown",
   "metadata": {},
   "source": [
    "## variables"
   ]
  },
  {
   "cell_type": "code",
   "execution_count": 3,
   "metadata": {
    "scrolled": false
   },
   "outputs": [
    {
     "name": "stdout",
     "output_type": "stream",
     "text": [
      "<class 'int'>\n"
     ]
    }
   ],
   "source": [
    "a=10;\n",
    "b=33;\n",
    "print(type(a+b))"
   ]
  },
  {
   "cell_type": "code",
   "execution_count": 5,
   "metadata": {},
   "outputs": [
    {
     "name": "stdout",
     "output_type": "stream",
     "text": [
      "<class 'float'>\n"
     ]
    }
   ],
   "source": [
    "a=45.55\n",
    "print(type(a));\n"
   ]
  },
  {
   "cell_type": "code",
   "execution_count": 7,
   "metadata": {},
   "outputs": [
    {
     "name": "stdout",
     "output_type": "stream",
     "text": [
      "<class 'str'>\n"
     ]
    }
   ],
   "source": [
    "a=\"hello\"\n",
    "print(type(a));"
   ]
  },
  {
   "cell_type": "code",
   "execution_count": 8,
   "metadata": {},
   "outputs": [
    {
     "name": "stdout",
     "output_type": "stream",
     "text": [
      "<class 'complex'>\n"
     ]
    }
   ],
   "source": [
    "d=5+4j\n",
    "print(type(d));"
   ]
  },
  {
   "cell_type": "markdown",
   "metadata": {},
   "source": [
    "## Taking input"
   ]
  },
  {
   "cell_type": "code",
   "execution_count": 6,
   "metadata": {},
   "outputs": [
    {
     "name": "stdout",
     "output_type": "stream",
     "text": [
      "bapu\n",
      "hello bapu\n"
     ]
    }
   ],
   "source": [
    "name=input()\n",
    "print(\"hello\",name)"
   ]
  },
  {
   "cell_type": "code",
   "execution_count": 18,
   "metadata": {},
   "outputs": [
    {
     "name": "stdout",
     "output_type": "stream",
     "text": [
      "Enter your name: yash gandhi\n",
      "hello yash gandhi\n",
      "helloyash gandhi\n"
     ]
    }
   ],
   "source": [
    "a=input(\"Enter your name: \");\n",
    "print(\"hello\",a);     #includes space\n",
    "print(\"hello\"+a);     #not include space"
   ]
  },
  {
   "cell_type": "markdown",
   "metadata": {},
   "source": [
    "## typecasting\n"
   ]
  },
  {
   "cell_type": "code",
   "execution_count": 19,
   "metadata": {},
   "outputs": [
    {
     "name": "stdout",
     "output_type": "stream",
     "text": [
      "Enter a number: 45\n",
      "the number you entered is: 45 type of a : <class 'str'>\n"
     ]
    }
   ],
   "source": [
    "a=input(\"Enter a number: \");\n",
    "print(\"the number you entered is:\",a,end=\" \");   #end parameter in a function\n",
    "                                                 #by default its value is \\n for print statement and this is \n",
    "                                                 #executed every time a print statement is executed\n",
    "print(\"type of a :\",type(a))"
   ]
  },
  {
   "cell_type": "code",
   "execution_count": 23,
   "metadata": {},
   "outputs": [
    {
     "name": "stdout",
     "output_type": "stream",
     "text": [
      "Enter a number: 4.234\n",
      "the number you entered is: 4.234\n",
      "\n",
      "type of a : <class 'float'>\n",
      "the square is : 17.926756\n"
     ]
    }
   ],
   "source": [
    "a=float(input(\"Enter a number: \"))\n",
    "print(\"the number you entered is:\",a,end=\"\\n\\n\")   #end parameter in a function\n",
    "                                                   #by default its value is \\n for print statement and this is \n",
    "                                                   #executed every time a print statement is executed\n",
    "print(\"type of a :\",type(a))\n",
    "print(\"the square is : \"+str(a*a))              #typecasted to str again "
   ]
  },
  {
   "cell_type": "markdown",
   "metadata": {},
   "source": [
    "## More on print fuction"
   ]
  },
  {
   "cell_type": "code",
   "execution_count": 31,
   "metadata": {},
   "outputs": [
    {
     "name": "stdout",
     "output_type": "stream",
     "text": [
      "+yash+\n",
      "+gandhi+\n",
      "+hello+\n",
      "+world\n"
     ]
    }
   ],
   "source": [
    "print(\"+yash\",\"gandhi\",\"hello\",\"world\",sep=\"+\\n+\") #seperator"
   ]
  },
  {
   "cell_type": "code",
   "execution_count": 32,
   "metadata": {},
   "outputs": [
    {
     "name": "stdout",
     "output_type": "stream",
     "text": [
      "45 people live in harayana\n"
     ]
    }
   ],
   "source": [
    "a=45\n",
    "b=\"harayana\"\n",
    "print(\"{0} people live in {1}\".format(a,b))"
   ]
  },
  {
   "cell_type": "code",
   "execution_count": 33,
   "metadata": {},
   "outputs": [
    {
     "name": "stdout",
     "output_type": "stream",
     "text": [
      "45 people live in harayana a state in india\n"
     ]
    }
   ],
   "source": [
    "a=45\n",
    "b=\"harayana\"\n",
    "c=\"india\"\n",
    "print(\"{0} people live in {1} a state in {2}\".format(a,b,c))"
   ]
  },
  {
   "cell_type": "code",
   "execution_count": 38,
   "metadata": {},
   "outputs": [
    {
     "name": "stdout",
     "output_type": "stream",
     "text": [
      "hello 45 people of harayana living in india\n"
     ]
    }
   ],
   "source": [
    "print(\"hello %d people of %s living in %s\"%(a,b,c))"
   ]
  },
  {
   "cell_type": "markdown",
   "metadata": {},
   "source": [
    "## Operators"
   ]
  },
  {
   "cell_type": "code",
   "execution_count": 48,
   "metadata": {},
   "outputs": [
    {
     "name": "stdout",
     "output_type": "stream",
     "text": [
      "3.3333333333333335 <class 'float'>\n",
      "3 <class 'int'>\n"
     ]
    }
   ],
   "source": [
    "a=10;\n",
    "b=3;\n",
    "print(a/b,type(a/b))                 #floating point returned\n",
    "print(a//b,type(a//b))               #integer division"
   ]
  },
  {
   "cell_type": "code",
   "execution_count": 45,
   "metadata": {},
   "outputs": [
    {
     "name": "stdout",
     "output_type": "stream",
     "text": [
      "hello 45\n"
     ]
    }
   ],
   "source": [
    "print(\"hello\",45)             #but print(\"hello \"+ 45) is invalid statement"
   ]
  },
  {
   "cell_type": "code",
   "execution_count": 55,
   "metadata": {},
   "outputs": [
    {
     "name": "stdout",
     "output_type": "stream",
     "text": [
      "1.0000\n",
      "1.2031\n"
     ]
    }
   ],
   "source": [
    "a=77\n",
    "b=64\n",
    "print(\"%0.4f\"%(a//b))\n",
    "print(\"%0.4f\"%(a/b))"
   ]
  },
  {
   "cell_type": "code",
   "execution_count": 56,
   "metadata": {},
   "outputs": [
    {
     "name": "stdout",
     "output_type": "stream",
     "text": [
      "5437589409196755010929519821645784067024309122301926366910354757626905801389085035074667925844349168139762829668081680641\n"
     ]
    }
   ],
   "source": [
    "print(a**b)"
   ]
  },
  {
   "cell_type": "code",
   "execution_count": 57,
   "metadata": {},
   "outputs": [
    {
     "name": "stdout",
     "output_type": "stream",
     "text": [
      "13\n"
     ]
    }
   ],
   "source": [
    "print(a%b)"
   ]
  },
  {
   "cell_type": "code",
   "execution_count": 63,
   "metadata": {},
   "outputs": [
    {
     "name": "stdout",
     "output_type": "stream",
     "text": [
      "40.23 times hello to you\n"
     ]
    }
   ],
   "source": [
    "a,b,c=10,\"hello\",30.23       #multiple variable assignment\n",
    "print(\"%0.2f\"%(a+c),\"times \"+b+\" to you\")"
   ]
  },
  {
   "cell_type": "markdown",
   "metadata": {},
   "source": [
    "## comments"
   ]
  },
  {
   "cell_type": "code",
   "execution_count": 64,
   "metadata": {},
   "outputs": [
    {
     "name": "stdout",
     "output_type": "stream",
     "text": [
      "multiline \n",
      "cceniewiunfvrv \n",
      "cmevm\n"
     ]
    }
   ],
   "source": [
    "#hello world\n",
    "\"\"\"multiline \n",
    "cceniewiunfvrv \n",
    "cmevm\"\"\"\n",
    "\n",
    "string=\"\"\"multiline \n",
    "cceniewiunfvrv \n",
    "cmevm\"\"\"\n",
    "\n",
    "print(string)"
   ]
  },
  {
   "cell_type": "code",
   "execution_count": 69,
   "metadata": {},
   "outputs": [
    {
     "data": {
      "text/plain": [
       "'multiline\\ncceniewiunfvrv\\ncmevm'"
      ]
     },
     "execution_count": 69,
     "metadata": {},
     "output_type": "execute_result"
    }
   ],
   "source": [
    "#hello world\n",
    "\"\"\"multiline\n",
    "cceniewiunfvrv\n",
    "cmevm\"\"\"                      #printed as jupyter is bad!!"
   ]
  },
  {
   "cell_type": "markdown",
   "metadata": {},
   "source": [
    "## more on operators"
   ]
  },
  {
   "cell_type": "code",
   "execution_count": 71,
   "metadata": {},
   "outputs": [
    {
     "name": "stdout",
     "output_type": "stream",
     "text": [
      "False\n",
      "False\n",
      "False\n",
      "True\n"
     ]
    }
   ],
   "source": [
    "raining=True            #T is capital\n",
    "temp=27\n",
    "out=not raining and temp>45\n",
    "print(out)\n",
    "\n",
    "out=not raining and temp==27\n",
    "print(out)\n",
    "\n",
    "out=raining and temp>45\n",
    "print(out)\n",
    "\n",
    "out=raining and temp<45\n",
    "print(out)"
   ]
  },
  {
   "cell_type": "code",
   "execution_count": 72,
   "metadata": {},
   "outputs": [
    {
     "name": "stdout",
     "output_type": "stream",
     "text": [
      "False\n",
      "True\n",
      "True\n",
      "True\n"
     ]
    }
   ],
   "source": [
    "raining=True            #T is capital\n",
    "temp=27\n",
    "out=not raining or temp>45\n",
    "print(out)\n",
    "\n",
    "out=not raining or temp==27\n",
    "print(out)\n",
    "\n",
    "out=raining or temp>45\n",
    "print(out)\n",
    "\n",
    "out=raining or temp<45\n",
    "print(out)"
   ]
  },
  {
   "cell_type": "markdown",
   "metadata": {},
   "source": [
    "## If Else statements"
   ]
  },
  {
   "cell_type": "code",
   "execution_count": 84,
   "metadata": {},
   "outputs": [
    {
     "name": "stdout",
     "output_type": "stream",
     "text": [
      "Enter the day: 4\n",
      "thu\n"
     ]
    }
   ],
   "source": [
    "a=int(input(\"Enter the day: \"))\n",
    "if(a==1):\n",
    "    print(\"mon\")\n",
    "elif(a==2):\n",
    "    print(\"tue\")\n",
    "elif(a==3):\n",
    "    print(\"wed\")\n",
    "elif(a==4):\n",
    "    print(\"thu\")\n",
    "elif(a==5):\n",
    "    print(\"fri\")\n",
    "elif(a==6):\n",
    "    print(\"sat\")\n",
    "elif(a==7):\n",
    "    print(\"sun\")\n",
    "else:\n",
    "    print(\"Enter a valid number\")"
   ]
  },
  {
   "cell_type": "code",
   "execution_count": null,
   "metadata": {},
   "outputs": [],
   "source": []
  }
 ],
 "metadata": {
  "kernelspec": {
   "display_name": "Python 3",
   "language": "python",
   "name": "python3"
  },
  "language_info": {
   "codemirror_mode": {
    "name": "ipython",
    "version": 3
   },
   "file_extension": ".py",
   "mimetype": "text/x-python",
   "name": "python",
   "nbconvert_exporter": "python",
   "pygments_lexer": "ipython3",
   "version": "3.6.5"
  }
 },
 "nbformat": 4,
 "nbformat_minor": 2
}
