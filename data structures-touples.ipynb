{
 "cells": [
  {
   "cell_type": "markdown",
   "metadata": {},
   "source": [
    "# Touples:\n",
    "- they are immutable\n",
    "- they can hold multiple objects and are like that of the lists\n",
    "- use of touples is that data is write protected ie cannot be modified\n",
    "- touples are faster than lists\n",
    "- touples help in returning multiple values from a function\n",
    "- they can be heterogenous"
   ]
  },
  {
   "cell_type": "markdown",
   "metadata": {},
   "source": [
    "## note: list and dictionary are mutable tuple and strings are immutable\n",
    "## note: list and tuple can be added but dictionary cannot added"
   ]
  },
  {
   "cell_type": "code",
   "execution_count": 2,
   "metadata": {},
   "outputs": [
    {
     "name": "stdout",
     "output_type": "stream",
     "text": [
      "<class 'tuple'>\n",
      "cbh\n"
     ]
    }
   ],
   "source": [
    "# defining a touple:\n",
    "\n",
    "t=(1,3,\"cbh\",32.45,45+3j)\n",
    "print(type(t))\n",
    "\n",
    "print(t[2])"
   ]
  },
  {
   "cell_type": "code",
   "execution_count": 8,
   "metadata": {},
   "outputs": [
    {
     "name": "stdout",
     "output_type": "stream",
     "text": [
      "(1, 3, 'cbh', 32.45, (45+3j))\n",
      "[1, 3, 'cbh', 32.45, (45+3j)]\n",
      "[4, 3, 'cbh', 32.45, (45+3j)]\n"
     ]
    }
   ],
   "source": [
    "# convert touple into a list:\n",
    "# after conversion of touple into a list it becomes mutable.\n",
    "\n",
    "print(t)\n",
    "l=list(t)\n",
    "print(l)\n",
    "\n",
    "l[0]=4\n",
    "print(l)"
   ]
  },
  {
   "cell_type": "code",
   "execution_count": 11,
   "metadata": {},
   "outputs": [
    {
     "name": "stdout",
     "output_type": "stream",
     "text": [
      "(4, 3, 'cbh', 32.45, (45+3j))\n",
      "[4, 3, 'cbh', 32.45, (45+3j)]\n"
     ]
    }
   ],
   "source": [
    "#convert list to a touple:\n",
    "\n",
    "r=tuple(l)\n",
    "print(r)\n",
    "print(l)"
   ]
  },
  {
   "cell_type": "code",
   "execution_count": 20,
   "metadata": {},
   "outputs": [
    {
     "name": "stdout",
     "output_type": "stream",
     "text": [
      "(1, 3, 'cbh', 32.45, (45+3j))\n",
      "(4, 3, 'cbh', 32.45, (45+3j))\n",
      "(1, 3, 'cbh', 32.45, (45+3j), 4, 3, 'cbh', 32.45, (45+3j))\n",
      "<class 'tuple'>\n"
     ]
    }
   ],
   "source": [
    "# concatenation: possible with tuple and list but not with dictionary\n",
    "\n",
    "print(t)\n",
    "print(r)\n",
    "a=t+r\n",
    "print(a)\n",
    "print(type(a))"
   ]
  },
  {
   "cell_type": "code",
   "execution_count": 23,
   "metadata": {},
   "outputs": [
    {
     "name": "stdout",
     "output_type": "stream",
     "text": [
      "(1, 3, 'cbh', 32.45, (45+3j))\n",
      "(1, 3, 'cbh', 32.45, (45+3j), 1, 3, 'cbh', 32.45, (45+3j), 1, 3, 'cbh', 32.45, (45+3j))\n"
     ]
    }
   ],
   "source": [
    "# repetition:\n",
    "\n",
    "print(t)\n",
    "a=t*3\n",
    "print(a)"
   ]
  },
  {
   "cell_type": "code",
   "execution_count": 24,
   "metadata": {},
   "outputs": [
    {
     "name": "stdout",
     "output_type": "stream",
     "text": [
      "67\n",
      "1\n"
     ]
    }
   ],
   "source": [
    "# max and min of a number\n",
    "\n",
    "t=(1,2,4,5,67)\n",
    "print(max(t))\n",
    "print(min(t))"
   ]
  },
  {
   "cell_type": "code",
   "execution_count": 26,
   "metadata": {},
   "outputs": [
    {
     "ename": "NameError",
     "evalue": "name 't' is not defined",
     "output_type": "error",
     "traceback": [
      "\u001b[1;31m---------------------------------------------------------------------------\u001b[0m",
      "\u001b[1;31mNameError\u001b[0m                                 Traceback (most recent call last)",
      "\u001b[1;32m<ipython-input-26-943cdf19ab94>\u001b[0m in \u001b[0;36m<module>\u001b[1;34m()\u001b[0m\n\u001b[0;32m      1\u001b[0m \u001b[1;31m# delete a tuple:\u001b[0m\u001b[1;33m\u001b[0m\u001b[1;33m\u001b[0m\u001b[0m\n\u001b[0;32m      2\u001b[0m \u001b[1;33m\u001b[0m\u001b[0m\n\u001b[1;32m----> 3\u001b[1;33m \u001b[0mprint\u001b[0m\u001b[1;33m(\u001b[0m\u001b[0mt\u001b[0m\u001b[1;33m)\u001b[0m\u001b[1;33m\u001b[0m\u001b[0m\n\u001b[0m\u001b[0;32m      4\u001b[0m \u001b[1;32mdel\u001b[0m\u001b[1;33m(\u001b[0m\u001b[0mt\u001b[0m\u001b[1;33m)\u001b[0m\u001b[1;33m\u001b[0m\u001b[0m\n",
      "\u001b[1;31mNameError\u001b[0m: name 't' is not defined"
     ]
    }
   ],
   "source": []
  },
  {
   "cell_type": "markdown",
   "metadata": {},
   "source": [
    "# sets\n",
    "- cannot contain same elements, if present they are discarded.\n",
    "- You cannot access items in a set by referring to an index, since sets are unordered the items has no index.\n",
    "- elements are not in the order which we gave and not also in a sorted order, they are in an order which is best for internal implementation"
   ]
  },
  {
   "cell_type": "code",
   "execution_count": 27,
   "metadata": {},
   "outputs": [
    {
     "name": "stdout",
     "output_type": "stream",
     "text": [
      "<class 'set'>\n",
      "{1, 2, 3, 4, 5, 6}\n"
     ]
    }
   ],
   "source": [
    "s={1,4,3,5,5,2,6,1}\n",
    "print(type(s))\n",
    "print(s)"
   ]
  },
  {
   "cell_type": "code",
   "execution_count": 47,
   "metadata": {},
   "outputs": [
    {
     "name": "stdout",
     "output_type": "stream",
     "text": [
      "{32, 1, 34, 4}\n",
      "<class 'set'>\n"
     ]
    }
   ],
   "source": [
    "a=set([1,32,4,34])\n",
    "print(a)\n",
    "print(type(a))"
   ]
  },
  {
   "cell_type": "code",
   "execution_count": 36,
   "metadata": {},
   "outputs": [
    {
     "name": "stdout",
     "output_type": "stream",
     "text": [
      "{32, 1, 34, 4}\n",
      "{32, 1, 34, 4, 443}\n"
     ]
    }
   ],
   "source": [
    "#adding new element:\n",
    "\n",
    "print(a)\n",
    "a.add(443)\n",
    "print(a)"
   ]
  },
  {
   "cell_type": "code",
   "execution_count": 40,
   "metadata": {},
   "outputs": [
    {
     "name": "stdout",
     "output_type": "stream",
     "text": [
      "{32, 1, 34, 4, 443}\n",
      "{1, 2, 3, 4, 5, 6}\n",
      "{32, 1, 34, 2, 4, 3, 5, 6, 443}\n",
      "{32, 1, 34, 2, 4, 3, 5, 6, 443}\n"
     ]
    }
   ],
   "source": [
    "#union of sets:\n",
    "\n",
    "print(a)\n",
    "print(s)\n",
    "print(a.union(s))\n",
    "\n",
    "#OR\n",
    "print(a|s)"
   ]
  },
  {
   "cell_type": "code",
   "execution_count": 42,
   "metadata": {},
   "outputs": [
    {
     "name": "stdout",
     "output_type": "stream",
     "text": [
      "{32, 1, 34, 4, 443}\n",
      "{1, 2, 3, 4, 5, 6}\n",
      "{1, 4}\n",
      "{1, 4}\n"
     ]
    }
   ],
   "source": [
    "#intersection of sets:\n",
    "\n",
    "print(a)\n",
    "print(s)\n",
    "print(a.intersection(s))\n",
    "print(a&s)"
   ]
  },
  {
   "cell_type": "code",
   "execution_count": 45,
   "metadata": {},
   "outputs": [
    {
     "name": "stdout",
     "output_type": "stream",
     "text": [
      "{32, 34, 443}\n",
      "set()\n",
      "{32, 34, 443}\n"
     ]
    }
   ],
   "source": [
    "# difference operator\n",
    "\n",
    "print(a-s)\n",
    "print(s.difference(s))\n",
    "print(a.difference(s))"
   ]
  },
  {
   "cell_type": "code",
   "execution_count": 48,
   "metadata": {},
   "outputs": [
    {
     "name": "stdout",
     "output_type": "stream",
     "text": [
      "{32, 1, 34, 4}\n",
      "set()\n"
     ]
    }
   ],
   "source": [
    "# clearing a set:\n",
    "\n",
    "print(a)\n",
    "a.clear()\n",
    "print(a)"
   ]
  },
  {
   "cell_type": "code",
   "execution_count": 49,
   "metadata": {},
   "outputs": [
    {
     "name": "stdout",
     "output_type": "stream",
     "text": [
      "present\n"
     ]
    }
   ],
   "source": [
    "# finding an element:\n",
    "\n",
    "if 4 in s:\n",
    "    print(\"present\")\n",
    "else:\n",
    "    printO(\"absent\")"
   ]
  },
  {
   "cell_type": "code",
   "execution_count": 52,
   "metadata": {},
   "outputs": [
    {
     "data": {
      "text/plain": [
       "{'23', 234, '42', 54, 'hello'}"
      ]
     },
     "execution_count": 52,
     "metadata": {},
     "output_type": "execute_result"
    }
   ],
   "source": [
    "# xor operator:(give those which are only in one of the sets)\n",
    "\n",
    "s1={\"23\",42}\n",
    "s2={\"hello\",234,54,42,\"42\"}\n",
    "s1^s2"
   ]
  }
 ],
 "metadata": {
  "kernelspec": {
   "display_name": "Python 3",
   "language": "python",
   "name": "python3"
  },
  "language_info": {
   "codemirror_mode": {
    "name": "ipython",
    "version": 3
   },
   "file_extension": ".py",
   "mimetype": "text/x-python",
   "name": "python",
   "nbconvert_exporter": "python",
   "pygments_lexer": "ipython3",
   "version": "3.6.5"
  }
 },
 "nbformat": 4,
 "nbformat_minor": 2
}
